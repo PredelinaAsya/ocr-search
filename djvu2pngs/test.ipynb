{
 "cells": [
  {
   "cell_type": "code",
   "execution_count": 2,
   "id": "1a646a12",
   "metadata": {},
   "outputs": [],
   "source": [
    "%load_ext autoreload"
   ]
  },
  {
   "cell_type": "code",
   "execution_count": 10,
   "id": "c8d4a2d5",
   "metadata": {},
   "outputs": [],
   "source": [
    "%autoreload 2\n",
    "\n",
    "import djvu2pngs as transform\n",
    "import os\n",
    "import glob\n",
    "import shutil"
   ]
  },
  {
   "cell_type": "code",
   "execution_count": 24,
   "id": "e40b6e04",
   "metadata": {},
   "outputs": [
    {
     "data": {
      "application/vnd.jupyter.widget-view+json": {
       "model_id": "c8eddc982e494e66aa1ff04a03473818",
       "version_major": 2,
       "version_minor": 0
      },
      "text/plain": [
       "0it [00:00, ?it/s]"
      ]
     },
     "metadata": {},
     "output_type": "display_data"
    },
    {
     "name": "stdout",
     "output_type": "stream",
     "text": [
      "0   FORM:DJVU [220872] \n",
      "    INFO [10]         DjVu 3814x5344, v25, 600 dpi, gamma=2.2\n",
      "    INCL [13]         Indirection chunk --> {00000009.djbz}\n",
      "    Sjbz [35100]      JB2 bilevel data\n",
      "    FG44 [8800]       IW4 data #1, 100 slices, v1.2 (color), 318x446\n",
      "    BG44 [35336]      IW4 data #1, 74 slices, v1.2 (color), 1272x1782\n",
      "    BG44 [31706]      IW4 data #2, 10 slices\n",
      "    BG44 [35302]      IW4 data #3, 4 slices\n",
      "    BG44 [74536]      IW4 data #4, 9 slices\n",
      "\n",
      "10   FORM:DJVU [116738] \n",
      "    INFO [10]         DjVu 3814x5344, v25, 600 dpi, gamma=2.2\n",
      "    INCL [13]         Indirection chunk --> {00000019.djbz}\n",
      "    Sjbz [15087]      JB2 bilevel data\n",
      "    FG44 [3182]       IW4 data #1, 100 slices, v1.2 (color), 318x446\n",
      "    BG44 [14764]      IW4 data #1, 74 slices, v1.2 (color), 1272x1782\n",
      "    BG44 [15856]      IW4 data #2, 10 slices\n",
      "    BG44 [21725]      IW4 data #3, 4 slices\n",
      "    BG44 [46030]      IW4 data #4, 9 slices\n",
      "\n",
      "20   FORM:DJVU [28822] \n",
      "    INFO [10]         DjVu 3814x5344, v25, 600 dpi, gamma=2.2\n",
      "    INCL [13]         Indirection chunk --> {00000029.djbz}\n",
      "    Sjbz [26013]      JB2 bilevel data\n",
      "    FG44 [269]        IW4 data #1, 100 slices, v1.2 (color), 318x446\n",
      "    BG44 [1681]       IW4 data #1, 74 slices, v1.2 (color), 1272x1782\n",
      "    BG44 [341]        IW4 data #2, 10 slices\n",
      "    BG44 [37]         IW4 data #3, 4 slices\n",
      "    BG44 [384]        IW4 data #4, 9 slices\n",
      "\n",
      "30   FORM:DJVU [34282] \n",
      "    INFO [10]         DjVu 3814x5344, v25, 600 dpi, gamma=2.2\n",
      "    INCL [13]         Indirection chunk --> {00000039.djbz}\n",
      "    Sjbz [31307]      JB2 bilevel data\n",
      "    FG44 [272]        IW4 data #1, 100 slices, v1.2 (color), 318x446\n",
      "    BG44 [1691]       IW4 data #1, 74 slices, v1.2 (color), 1272x1782\n",
      "    BG44 [420]        IW4 data #2, 10 slices\n",
      "    BG44 [50]         IW4 data #3, 4 slices\n",
      "    BG44 [448]        IW4 data #4, 9 slices\n",
      "\n",
      "40   FORM:DJVU [35121] \n",
      "    INFO [10]         DjVu 3814x5344, v25, 600 dpi, gamma=2.2\n",
      "    INCL [13]         Indirection chunk --> {00000049.djbz}\n",
      "    Sjbz [32231]      JB2 bilevel data\n",
      "    FG44 [312]        IW4 data #1, 100 slices, v1.2 (color), 318x446\n",
      "    BG44 [1692]       IW4 data #1, 74 slices, v1.2 (color), 1272x1782\n",
      "    BG44 [372]        IW4 data #2, 10 slices\n",
      "    BG44 [45]         IW4 data #3, 4 slices\n",
      "    BG44 [375]        IW4 data #4, 9 slices\n",
      "\n",
      "50   FORM:DJVU [38146] \n",
      "    INFO [10]         DjVu 3814x5344, v25, 600 dpi, gamma=2.2\n",
      "    INCL [13]         Indirection chunk --> {00000059.djbz}\n",
      "    Sjbz [35151]      JB2 bilevel data\n",
      "    FG44 [270]        IW4 data #1, 100 slices, v1.2 (color), 318x446\n",
      "    BG44 [1706]       IW4 data #1, 74 slices, v1.2 (color), 1272x1782\n",
      "    BG44 [401]        IW4 data #2, 10 slices\n",
      "    BG44 [82]         IW4 data #3, 4 slices\n",
      "    BG44 [442]        IW4 data #4, 9 slices\n",
      "\n",
      "60   FORM:DJVU [148202] \n",
      "    INFO [10]         DjVu 3814x5344, v25, 600 dpi, gamma=2.2\n",
      "    INCL [13]         Indirection chunk --> {00000069.djbz}\n",
      "    Sjbz [9450]       JB2 bilevel data\n",
      "    FG44 [3213]       IW4 data #1, 100 slices, v1.2 (color), 318x446\n",
      "    BG44 [17745]      IW4 data #1, 74 slices, v1.2 (color), 1272x1782\n",
      "    BG44 [21405]      IW4 data #2, 10 slices\n",
      "    BG44 [35310]      IW4 data #3, 4 slices\n",
      "    BG44 [60984]      IW4 data #4, 9 slices\n",
      "\n",
      "70   FORM:DJVU [112780] \n",
      "    INFO [10]         DjVu 3814x5344, v25, 600 dpi, gamma=2.2\n",
      "    INCL [13]         Indirection chunk --> {00000079.djbz}\n",
      "    Sjbz [3399]       JB2 bilevel data\n",
      "    FG44 [1268]       IW4 data #1, 100 slices, v1.2 (color), 318x446\n",
      "    BG44 [12397]      IW4 data #1, 74 slices, v1.2 (color), 1272x1782\n",
      "    BG44 [13330]      IW4 data #2, 10 slices\n",
      "    BG44 [23970]      IW4 data #3, 4 slices\n",
      "    BG44 [58322]      IW4 data #4, 9 slices\n",
      "\n",
      "80   FORM:DJVU [31179] \n",
      "    INFO [10]         DjVu 3814x5344, v25, 600 dpi, gamma=2.2\n",
      "    INCL [13]         Indirection chunk --> {00000089.djbz}\n",
      "    Sjbz [28178]      JB2 bilevel data\n",
      "    FG44 [286]        IW4 data #1, 100 slices, v1.2 (color), 318x446\n",
      "    BG44 [1687]       IW4 data #1, 74 slices, v1.2 (color), 1272x1782\n",
      "    BG44 [408]        IW4 data #2, 10 slices\n",
      "    BG44 [82]         IW4 data #3, 4 slices\n",
      "    BG44 [445]        IW4 data #4, 9 slices\n",
      "\n",
      "90   FORM:DJVU [15533] \n",
      "    INFO [10]         DjVu 3814x5344, v25, 600 dpi, gamma=2.2\n",
      "    Sjbz [12793]      JB2 bilevel data\n",
      "    FG44 [251]        IW4 data #1, 100 slices, v1.2 (color), 318x446\n",
      "    BG44 [1667]       IW4 data #1, 74 slices, v1.2 (color), 1272x1782\n",
      "    BG44 [361]        IW4 data #2, 10 slices\n",
      "    BG44 [33]         IW4 data #3, 4 slices\n",
      "    BG44 [353]        IW4 data #4, 9 slices\n",
      "\n"
     ]
    }
   ],
   "source": [
    "name = \"Starina_i_byt\"\n",
    "\n",
    "if os.path.exists(name):\n",
    "    shutil.rmtree(name)\n",
    "os.mkdir(name)\n",
    "\n",
    "transform.book2pngs(name + \".djvu\", name + \"/\")"
   ]
  }
 ],
 "metadata": {
  "kernelspec": {
   "display_name": "Python 3 (ipykernel)",
   "language": "python",
   "name": "python3"
  },
  "language_info": {
   "codemirror_mode": {
    "name": "ipython",
    "version": 3
   },
   "file_extension": ".py",
   "mimetype": "text/x-python",
   "name": "python",
   "nbconvert_exporter": "python",
   "pygments_lexer": "ipython3",
   "version": "3.9.2"
  }
 },
 "nbformat": 4,
 "nbformat_minor": 5
}
